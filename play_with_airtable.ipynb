{
 "cells": [
  {
   "cell_type": "markdown",
   "id": "98be17a4-adf3-42fa-97fe-fd2123f7665a",
   "metadata": {},
   "source": [
    "# <center style=\"font-size:2.5em\">Play with AirTable</center>"
   ]
  },
  {
   "cell_type": "markdown",
   "id": "09aa4b6d-595a-4d90-a1c9-858298c7a053",
   "metadata": {},
   "source": [
    "**Objectif :**  \n",
    "- Créer un graphique avec les différents projets de l'équipe RGP"
   ]
  },
  {
   "cell_type": "code",
   "execution_count": 55,
   "id": "4a417c94-ac5a-4dda-b100-6dcbfe7b470e",
   "metadata": {},
   "outputs": [],
   "source": [
    "# usefull imports\n",
    "from importlib.resources import open_text\n",
    "import yaml\n",
    "import os\n",
    "import airtable\n",
    "from pyvis.network import Network"
   ]
  },
  {
   "cell_type": "markdown",
   "id": "eedc7400-616b-4224-824e-95017377f3ba",
   "metadata": {},
   "source": [
    "Récupère les infos depuis AirTable"
   ]
  },
  {
   "cell_type": "code",
   "execution_count": 15,
   "id": "d13c487a-fa1a-4d0f-aa15-eea5df91ad6e",
   "metadata": {},
   "outputs": [],
   "source": [
    "# get secrets\n",
    "with open(\"secrets.yml\") as f:\n",
    "    secrets = yaml.safe_load(f)"
   ]
  },
  {
   "cell_type": "code",
   "execution_count": 16,
   "id": "4cb228d2-3595-4138-9111-86ed0f95128f",
   "metadata": {},
   "outputs": [],
   "source": [
    "# Connection to airtable\n",
    "at = airtable.Airtable(secrets['rgp_base_id'], secrets['api_key'])"
   ]
  },
  {
   "cell_type": "code",
   "execution_count": 76,
   "id": "e054e0a0-cdf1-49d2-85d8-048ee11c263d",
   "metadata": {},
   "outputs": [
    {
     "data": {
      "text/plain": [
       "odict_keys(['Nom', 'Client', 'Thématiques', 'Direction du projet RGP', 'Démarrage', 'Production/Expertise RGP', 'Type de financement', 'Sujet', 'Secteur', 'Localisation', 'Division pilote', 'DO CSTB impliquées', 'Developpeurs RGP', 'Autres interlocuteurs CSTB', 'Intervenants ext.', 'Briques CSTB', 'Rendu', 'Lien EQUIPE TEAMS', 'Dossier sur le Sharepoint', 'Fin', 'Pilotage RGP', 'Membres RGP', 'Status'])"
      ]
     },
     "execution_count": 76,
     "metadata": {},
     "output_type": "execute_result"
    }
   ],
   "source": [
    "# tests\n",
    "at.get('Projets')['records'][9]['fields'].keys()\n",
    "# at.get('Projets')['records'][0]['fields']['Membres RGP']"
   ]
  },
  {
   "cell_type": "code",
   "execution_count": 78,
   "id": "acce184a-b6c4-4b8e-a335-970ebe49c37f",
   "metadata": {},
   "outputs": [],
   "source": [
    "# Liste des agents\n",
    "agent_id_dict = {}\n",
    "for record in at.get('Agents RGP')['records']:\n",
    "    agent_id_dict[record['id']] = record['fields']['Nom']\n",
    "\n",
    "# Liste des projets\n",
    "project_links = dict()\n",
    "for record in at.get('Projets')['records']:\n",
    "    project_name = record['fields']['Nom']\n",
    "    if 'Membres RGP' in record['fields']:\n",
    "        project_links[project_name] = [agent_id_dict[agent_id] for agent_id in record['fields']['Membres RGP']]"
   ]
  },
  {
   "cell_type": "markdown",
   "id": "81134275-bda3-4c7d-8bc2-d5e4b7c5fe73",
   "metadata": {},
   "source": [
    "## Génère un network diagram avec Pyviz (VisJS)"
   ]
  },
  {
   "cell_type": "code",
   "execution_count": 101,
   "id": "455ffc19-5523-44c3-90e8-43addbb23f7f",
   "metadata": {},
   "outputs": [],
   "source": [
    "net = Network(height='600px', width='100%')\n",
    "\n",
    "# ajoute les noeuds (les agents)\n",
    "net.add_nodes(list(agent_id_dict.values()), color=['#15443C']*len(agent_id_dict))\n",
    "\n",
    "# ajoute les noeuds (les projets)\n",
    "net.add_nodes(list(project_links.keys()), color=['#C3443C']*len(project_links))\n",
    "\n",
    "# ajoute les liens\n",
    "net.add_edges([(project_name, agent_name) for project_name in project_links for agent_name in project_links[project_name]])"
   ]
  },
  {
   "cell_type": "code",
   "execution_count": 102,
   "id": "932f7e48-6320-452c-aed5-d33dafe9a0d5",
   "metadata": {},
   "outputs": [],
   "source": [
    "# os.remove('mygraph.html')\n",
    "net.show('mygraph.html')"
   ]
  },
  {
   "cell_type": "code",
   "execution_count": null,
   "id": "e2f1ff84-6538-4967-863f-62a74dcc2e01",
   "metadata": {},
   "outputs": [],
   "source": []
  }
 ],
 "metadata": {
  "kernelspec": {
   "display_name": "Python 3 (ipykernel)",
   "language": "python",
   "name": "python3"
  },
  "language_info": {
   "codemirror_mode": {
    "name": "ipython",
    "version": 3
   },
   "file_extension": ".py",
   "mimetype": "text/x-python",
   "name": "python",
   "nbconvert_exporter": "python",
   "pygments_lexer": "ipython3",
   "version": "3.9.5"
  }
 },
 "nbformat": 4,
 "nbformat_minor": 5
}
